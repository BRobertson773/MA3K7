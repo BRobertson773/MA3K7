{
 "cells": [
  {
   "cell_type": "code",
   "execution_count": 1,
   "id": "5a2521b2-dd47-4316-afbf-fbd7fa38963f",
   "metadata": {},
   "outputs": [],
   "source": [
    "import numpy as np\n",
    "import matplotlib.pyplot as plt\n",
    "from itertools import product"
   ]
  },
  {
   "cell_type": "code",
   "execution_count": 9,
   "id": "a9d6f976-eb55-4512-840c-b2491a106547",
   "metadata": {},
   "outputs": [
    {
     "name": "stdout",
     "output_type": "stream",
     "text": [
      "(0, 0)\n",
      "(1, 1)\n",
      "\n",
      "(0, 1)\n",
      "(0, 1)\n",
      "\n",
      "(0, 1)\n",
      "(1, 0)\n",
      "\n",
      "(1, 0)\n",
      "(0, 1)\n",
      "\n",
      "(1, 0)\n",
      "(1, 0)\n",
      "\n",
      "(1, 1)\n",
      "(0, 0)\n",
      "\n",
      "2\n",
      "6\n",
      "252\n",
      "12870\n",
      "10400600\n"
     ]
    }
   ],
   "source": [
    "def generate_matrices(n):\n",
    "    if n % 2 == 1:\n",
    "        num_zeros = n**2 // 2\n",
    "        num_ones = num_zeros + 1\n",
    "        valid_matrices = []\n",
    "        for p in product([0, 1], repeat=n**2):\n",
    "            if p.count(0) == num_zeros and p.count(1) == num_ones:\n",
    "                matrix = [p[i:i+n] for i in range(0, len(p), n)]\n",
    "                valid_matrices.append(matrix)\n",
    "        num_zeros = (n**2 // 2 ) +1\n",
    "        num_ones = num_zeros - 1       \n",
    "        for p in product([0, 1], repeat=n**2):\n",
    "            if p.count(0) == num_zeros and p.count(1) == num_ones:\n",
    "                matrix = [p[i:i+n] for i in range(0, len(p), n)]\n",
    "                valid_matrices.append(matrix)\n",
    "                \n",
    "        return valid_matrices\n",
    "    \n",
    "    else:\n",
    "        num_zeros = num_ones = n**2 // 2\n",
    "\n",
    "    valid_matrices = []\n",
    "    for p in product([0, 1], repeat=n**2):\n",
    "        if p.count(0) == num_zeros and p.count(1) == num_ones:\n",
    "            matrix = [p[i:i+n] for i in range(0, len(p), n)]\n",
    "            valid_matrices.append(matrix)\n",
    "    return valid_matrices\n",
    "\n",
    "#testing using known matrices\n",
    "matrices = generate_matrices(2)\n",
    "for matrix in matrices:\n",
    "    for row in matrix:\n",
    "        print(row)\n",
    "    print()\n",
    "\n",
    "for n in range(1,6):\n",
    "    matrices = generate_matrices(n)\n",
    "    print(len(matrices))"
   ]
  },
  {
   "cell_type": "code",
   "execution_count": 11,
   "id": "a13ca5cd-bb60-47b2-a72f-3db7f48946f3",
   "metadata": {},
   "outputs": [],
   "source": [
    "def listdet(matrices):\n",
    "    det = []\n",
    "    \n",
    "    for matrix in matrices:\n",
    "        \n",
    "        det.append(np.linalg.det(matrix))\n",
    "    \n",
    "    return det\n",
    "\n",
    "def win_prob(det):\n",
    "    prob = det.count(0)/len(det)\n",
    "    return prob"
   ]
  },
  {
   "cell_type": "code",
   "execution_count": 12,
   "id": "4b2d9a78-6c7d-44bd-84cb-c46ac572318a",
   "metadata": {},
   "outputs": [
    {
     "name": "stdout",
     "output_type": "stream",
     "text": [
      "0.5\n",
      "0.6666666666666666\n",
      "0.5714285714285714\n",
      "0.586013986013986\n",
      "0.5739668865257773\n"
     ]
    }
   ],
   "source": [
    "N=5\n",
    "for n in range(1,N+1):\n",
    "    print(win_prob(listdet(generate_matrices(n))))"
   ]
  },
  {
   "cell_type": "code",
   "execution_count": 13,
   "id": "e4cb5e8e-9c92-438e-b005-9d9851cf1de9",
   "metadata": {},
   "outputs": [],
   "source": [
    "def generate_matrices1(n):\n",
    "    if n % 2 == 1:\n",
    "        num_zeros = n**2 // 2\n",
    "        num_ones = num_zeros + 1\n",
    "        valid_matrices = []\n",
    "        for p in product([0, 1], repeat=n**2):\n",
    "            if p.count(0) == num_zeros and p.count(1) == num_ones:\n",
    "                matrix = [p[i:i+n] for i in range(0, len(p), n)]\n",
    "                valid_matrices.append(matrix)            \n",
    "        return valid_matrices\n",
    "    \n",
    "    else:\n",
    "        num_zeros = num_ones = n**2 // 2\n",
    "\n",
    "    valid_matrices = []\n",
    "    for p in product([0, 1], repeat=n**2):\n",
    "        if p.count(0) == num_zeros and p.count(1) == num_ones:\n",
    "            matrix = [p[i:i+n] for i in range(0, len(p), n)]\n",
    "            valid_matrices.append(matrix)\n",
    "    return valid_matrices\n",
    "def generate_matrices0(n):\n",
    "    if n % 2 == 1:\n",
    "        num_zeros = (n**2 // 2 )+1\n",
    "        num_ones = num_zeros - 1\n",
    "        valid_matrices = []\n",
    "        for p in product([0, 1], repeat=n**2):\n",
    "            if p.count(0) == num_zeros and p.count(1) == num_ones:\n",
    "                matrix = [p[i:i+n] for i in range(0, len(p), n)]\n",
    "                valid_matrices.append(matrix)            \n",
    "        return valid_matrices\n",
    "    \n",
    "    else:\n",
    "        num_zeros = num_ones = n**2 // 2\n",
    "\n",
    "    valid_matrices = []\n",
    "    for p in product([0, 1], repeat=n**2):\n",
    "        if p.count(0) == num_zeros and p.count(1) == num_ones:\n",
    "            matrix = [p[i:i+n] for i in range(0, len(p), n)]\n",
    "            valid_matrices.append(matrix)\n",
    "    return valid_matrices\n",
    "\n"
   ]
  },
  {
   "cell_type": "code",
   "execution_count": 14,
   "id": "3cf108c4-4fff-4d04-9426-61a4a9023236",
   "metadata": {},
   "outputs": [
    {
     "name": "stdout",
     "output_type": "stream",
     "text": [
      "1.0\n",
      "0.6666666666666666\n",
      "0.7142857142857143\n",
      "0.586013986013986\n",
      "0.5962925215852931\n",
      "0.0\n",
      "0.6666666666666666\n",
      "0.42857142857142855\n",
      "0.586013986013986\n",
      "0.5516412514662615\n"
     ]
    }
   ],
   "source": [
    "N=5\n",
    "for n in range(1,N+1):\n",
    "    print(win_prob(listdet(generate_matrices0(n))))\n",
    "    \n",
    "\n",
    "for n in range(1,N+1):\n",
    "    print(win_prob(listdet(generate_matrices1(n))))"
   ]
  },
  {
   "cell_type": "code",
   "execution_count": null,
   "id": "19440cd6-fb8f-43b9-9ecc-7bca0e419a71",
   "metadata": {},
   "outputs": [],
   "source": []
  }
 ],
 "metadata": {
  "kernelspec": {
   "display_name": "Python 3 (ipykernel)",
   "language": "python",
   "name": "python3"
  },
  "language_info": {
   "codemirror_mode": {
    "name": "ipython",
    "version": 3
   },
   "file_extension": ".py",
   "mimetype": "text/x-python",
   "name": "python",
   "nbconvert_exporter": "python",
   "pygments_lexer": "ipython3",
   "version": "3.9.18"
  }
 },
 "nbformat": 4,
 "nbformat_minor": 5
}
